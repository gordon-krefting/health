{
 "cells": [
  {
   "cell_type": "markdown",
   "metadata": {},
   "source": [
    "# Read the Excel file"
   ]
  },
  {
   "cell_type": "code",
   "execution_count": 142,
   "metadata": {},
   "outputs": [
    {
     "data": {
      "text/html": [
       "<div>\n",
       "<style scoped>\n",
       "    .dataframe tbody tr th:only-of-type {\n",
       "        vertical-align: middle;\n",
       "    }\n",
       "\n",
       "    .dataframe tbody tr th {\n",
       "        vertical-align: top;\n",
       "    }\n",
       "\n",
       "    .dataframe thead th {\n",
       "        text-align: right;\n",
       "    }\n",
       "</style>\n",
       "<table border=\"1\" class=\"dataframe\">\n",
       "  <thead>\n",
       "    <tr style=\"text-align: right;\">\n",
       "      <th></th>\n",
       "      <th>Date</th>\n",
       "      <th>Time</th>\n",
       "      <th>SYS</th>\n",
       "      <th>DIA</th>\n",
       "    </tr>\n",
       "  </thead>\n",
       "  <tbody>\n",
       "    <tr>\n",
       "      <th>0</th>\n",
       "      <td>2019-01-03</td>\n",
       "      <td>20:00:00</td>\n",
       "      <td>151</td>\n",
       "      <td>93</td>\n",
       "    </tr>\n",
       "    <tr>\n",
       "      <th>1</th>\n",
       "      <td>2019-01-04</td>\n",
       "      <td>07:00:00</td>\n",
       "      <td>154</td>\n",
       "      <td>102</td>\n",
       "    </tr>\n",
       "    <tr>\n",
       "      <th>2</th>\n",
       "      <td>2019-01-04</td>\n",
       "      <td>21:00:00</td>\n",
       "      <td>150</td>\n",
       "      <td>99</td>\n",
       "    </tr>\n",
       "    <tr>\n",
       "      <th>3</th>\n",
       "      <td>2019-01-04</td>\n",
       "      <td>21:00:00</td>\n",
       "      <td>145</td>\n",
       "      <td>96</td>\n",
       "    </tr>\n",
       "    <tr>\n",
       "      <th>4</th>\n",
       "      <td>2019-01-05</td>\n",
       "      <td>09:00:00</td>\n",
       "      <td>150</td>\n",
       "      <td>96</td>\n",
       "    </tr>\n",
       "  </tbody>\n",
       "</table>\n",
       "</div>"
      ],
      "text/plain": [
       "        Date      Time  SYS  DIA\n",
       "0 2019-01-03  20:00:00  151   93\n",
       "1 2019-01-04  07:00:00  154  102\n",
       "2 2019-01-04  21:00:00  150   99\n",
       "3 2019-01-04  21:00:00  145   96\n",
       "4 2019-01-05  09:00:00  150   96"
      ]
     },
     "execution_count": 142,
     "metadata": {},
     "output_type": "execute_result"
    }
   ],
   "source": [
    "import os\n",
    "import pandas as pd\n",
    "import matplotlib.pyplot as plt\n",
    "\n",
    "%matplotlib inline\n",
    "plt.rcParams['savefig.dpi'] = 75\n",
    "plt.rcParams['figure.figsize'] = 24, 18\n",
    "plt.rcParams['axes.labelsize'] = 18\n",
    "plt.rcParams['axes.titlesize'] = 20\n",
    "plt.rcParams['font.size'] = 16\n",
    "plt.rcParams['lines.linewidth'] = 2.0\n",
    "plt.rcParams['lines.markersize'] = 8\n",
    "plt.rcParams['legend.fontsize'] = 20\n",
    "\n",
    "local_path = os.path.abspath(os.path.join(os.sep, 'Users', 'gkreftin', 'Dropbox', 'Health'))\n",
    "file_path = os.path.join(local_path, \"blood pressure.xlsx\")\n",
    "bp = pd.read_excel(file_path)\n",
    "bp.head()"
   ]
  },
  {
   "cell_type": "code",
   "execution_count": 143,
   "metadata": {},
   "outputs": [
    {
     "name": "stdout",
     "output_type": "stream",
     "text": [
      "<class 'pandas.core.frame.DataFrame'>\n",
      "RangeIndex: 136 entries, 0 to 135\n",
      "Data columns (total 4 columns):\n",
      "Date    136 non-null datetime64[ns]\n",
      "Time    136 non-null object\n",
      "SYS     136 non-null int64\n",
      "DIA     136 non-null int64\n",
      "dtypes: datetime64[ns](1), int64(2), object(1)\n",
      "memory usage: 4.3+ KB\n"
     ]
    }
   ],
   "source": [
    "bp.info()"
   ]
  },
  {
   "cell_type": "markdown",
   "metadata": {},
   "source": [
    "# Clean out columns we don't want"
   ]
  },
  {
   "cell_type": "code",
   "execution_count": 144,
   "metadata": {},
   "outputs": [
    {
     "data": {
      "text/html": [
       "<div>\n",
       "<style scoped>\n",
       "    .dataframe tbody tr th:only-of-type {\n",
       "        vertical-align: middle;\n",
       "    }\n",
       "\n",
       "    .dataframe tbody tr th {\n",
       "        vertical-align: top;\n",
       "    }\n",
       "\n",
       "    .dataframe thead th {\n",
       "        text-align: right;\n",
       "    }\n",
       "</style>\n",
       "<table border=\"1\" class=\"dataframe\">\n",
       "  <thead>\n",
       "    <tr style=\"text-align: right;\">\n",
       "      <th></th>\n",
       "      <th>Date</th>\n",
       "      <th>SYS</th>\n",
       "      <th>DIA</th>\n",
       "    </tr>\n",
       "  </thead>\n",
       "  <tbody>\n",
       "    <tr>\n",
       "      <th>0</th>\n",
       "      <td>2019-01-03</td>\n",
       "      <td>151</td>\n",
       "      <td>93</td>\n",
       "    </tr>\n",
       "    <tr>\n",
       "      <th>1</th>\n",
       "      <td>2019-01-04</td>\n",
       "      <td>154</td>\n",
       "      <td>102</td>\n",
       "    </tr>\n",
       "    <tr>\n",
       "      <th>2</th>\n",
       "      <td>2019-01-04</td>\n",
       "      <td>150</td>\n",
       "      <td>99</td>\n",
       "    </tr>\n",
       "    <tr>\n",
       "      <th>3</th>\n",
       "      <td>2019-01-04</td>\n",
       "      <td>145</td>\n",
       "      <td>96</td>\n",
       "    </tr>\n",
       "    <tr>\n",
       "      <th>4</th>\n",
       "      <td>2019-01-05</td>\n",
       "      <td>150</td>\n",
       "      <td>96</td>\n",
       "    </tr>\n",
       "  </tbody>\n",
       "</table>\n",
       "</div>"
      ],
      "text/plain": [
       "        Date  SYS  DIA\n",
       "0 2019-01-03  151   93\n",
       "1 2019-01-04  154  102\n",
       "2 2019-01-04  150   99\n",
       "3 2019-01-04  145   96\n",
       "4 2019-01-05  150   96"
      ]
     },
     "execution_count": 144,
     "metadata": {},
     "output_type": "execute_result"
    }
   ],
   "source": [
    "bp.drop(\"Time\", axis=1, inplace=True)\n",
    "bp.head()"
   ]
  },
  {
   "cell_type": "markdown",
   "metadata": {},
   "source": [
    "# Add in the Target Values"
   ]
  },
  {
   "cell_type": "code",
   "execution_count": 145,
   "metadata": {},
   "outputs": [],
   "source": [
    "bp = bp.groupby(['Date'], squeeze=True).mean()\n",
    "bp['Target A - SYS'] = 140\n",
    "bp['Target A - DIA'] = 90\n",
    "bp['Target SYS'] = 130\n",
    "bp['Target DIA'] = 85"
   ]
  },
  {
   "cell_type": "markdown",
   "metadata": {},
   "source": [
    "# Trendlines"
   ]
  },
  {
   "cell_type": "code",
   "execution_count": 146,
   "metadata": {
    "scrolled": true
   },
   "outputs": [
    {
     "data": {
      "text/html": [
       "<div>\n",
       "<style scoped>\n",
       "    .dataframe tbody tr th:only-of-type {\n",
       "        vertical-align: middle;\n",
       "    }\n",
       "\n",
       "    .dataframe tbody tr th {\n",
       "        vertical-align: top;\n",
       "    }\n",
       "\n",
       "    .dataframe thead th {\n",
       "        text-align: right;\n",
       "    }\n",
       "</style>\n",
       "<table border=\"1\" class=\"dataframe\">\n",
       "  <thead>\n",
       "    <tr style=\"text-align: right;\">\n",
       "      <th></th>\n",
       "      <th>SYS</th>\n",
       "      <th>DIA</th>\n",
       "      <th>Target A - SYS</th>\n",
       "      <th>Target A - DIA</th>\n",
       "      <th>Target SYS</th>\n",
       "      <th>Target DIA</th>\n",
       "      <th>SYS Trend</th>\n",
       "      <th>DIA Trend</th>\n",
       "    </tr>\n",
       "    <tr>\n",
       "      <th>Date</th>\n",
       "      <th></th>\n",
       "      <th></th>\n",
       "      <th></th>\n",
       "      <th></th>\n",
       "      <th></th>\n",
       "      <th></th>\n",
       "      <th></th>\n",
       "      <th></th>\n",
       "    </tr>\n",
       "  </thead>\n",
       "  <tbody>\n",
       "    <tr>\n",
       "      <th>2019-01-03</th>\n",
       "      <td>151.000000</td>\n",
       "      <td>93.00</td>\n",
       "      <td>140</td>\n",
       "      <td>90</td>\n",
       "      <td>130</td>\n",
       "      <td>85</td>\n",
       "      <td>144.661252</td>\n",
       "      <td>94.046952</td>\n",
       "    </tr>\n",
       "    <tr>\n",
       "      <th>2019-01-04</th>\n",
       "      <td>149.666667</td>\n",
       "      <td>99.00</td>\n",
       "      <td>140</td>\n",
       "      <td>90</td>\n",
       "      <td>130</td>\n",
       "      <td>85</td>\n",
       "      <td>144.606511</td>\n",
       "      <td>94.051937</td>\n",
       "    </tr>\n",
       "    <tr>\n",
       "      <th>2019-01-05</th>\n",
       "      <td>149.750000</td>\n",
       "      <td>96.25</td>\n",
       "      <td>140</td>\n",
       "      <td>90</td>\n",
       "      <td>130</td>\n",
       "      <td>85</td>\n",
       "      <td>144.551769</td>\n",
       "      <td>94.056921</td>\n",
       "    </tr>\n",
       "    <tr>\n",
       "      <th>2019-01-06</th>\n",
       "      <td>154.000000</td>\n",
       "      <td>103.00</td>\n",
       "      <td>140</td>\n",
       "      <td>90</td>\n",
       "      <td>130</td>\n",
       "      <td>85</td>\n",
       "      <td>144.497028</td>\n",
       "      <td>94.061906</td>\n",
       "    </tr>\n",
       "    <tr>\n",
       "      <th>2019-01-07</th>\n",
       "      <td>141.250000</td>\n",
       "      <td>99.00</td>\n",
       "      <td>140</td>\n",
       "      <td>90</td>\n",
       "      <td>130</td>\n",
       "      <td>85</td>\n",
       "      <td>144.442286</td>\n",
       "      <td>94.066891</td>\n",
       "    </tr>\n",
       "  </tbody>\n",
       "</table>\n",
       "</div>"
      ],
      "text/plain": [
       "                   SYS     DIA  Target A - SYS  Target A - DIA  Target SYS  \\\n",
       "Date                                                                         \n",
       "2019-01-03  151.000000   93.00             140              90         130   \n",
       "2019-01-04  149.666667   99.00             140              90         130   \n",
       "2019-01-05  149.750000   96.25             140              90         130   \n",
       "2019-01-06  154.000000  103.00             140              90         130   \n",
       "2019-01-07  141.250000   99.00             140              90         130   \n",
       "\n",
       "            Target DIA   SYS Trend  DIA Trend  \n",
       "Date                                           \n",
       "2019-01-03          85  144.661252  94.046952  \n",
       "2019-01-04          85  144.606511  94.051937  \n",
       "2019-01-05          85  144.551769  94.056921  \n",
       "2019-01-06          85  144.497028  94.061906  \n",
       "2019-01-07          85  144.442286  94.066891  "
      ]
     },
     "execution_count": 146,
     "metadata": {},
     "output_type": "execute_result"
    }
   ],
   "source": [
    "# This mdates thing can turn dates into numeric values, which is what we need to polyfit\n",
    "import matplotlib.dates as mdates\n",
    "bp['rawdate'] = mdates.date2num(bp.index)\n",
    "\n",
    "bp.dropna(subset=[\"SYS\"], inplace=True)\n",
    "\n",
    "import numpy as np\n",
    "# For 1-d degree curve fitting, polyfit returns good old y = mx + b values for each trend\n",
    "sys_fit = np.polyfit(bp['rawdate'], bp['SYS'], 1)\n",
    "dia_fit = np.polyfit(bp['rawdate'], bp['DIA'], 1)\n",
    "bp['SYS Trend'] = bp['rawdate'] * sys_fit[0] + sys_fit[1]\n",
    "bp['DIA Trend'] = bp['rawdate'] * dia_fit[0] + dia_fit[1]\n",
    "\n",
    "# don't need this anymore\n",
    "bp.drop(\"rawdate\", axis=1, inplace=True)\n",
    "\n",
    "bp.head()"
   ]
  },
  {
   "cell_type": "markdown",
   "metadata": {},
   "source": [
    "# The Graphs"
   ]
  },
  {
   "cell_type": "code",
   "execution_count": 147,
   "metadata": {},
   "outputs": [
    {
     "data": {
      "text/plain": [
       "<matplotlib.axes._subplots.AxesSubplot at 0x125996ef0>"
      ]
     },
     "execution_count": 147,
     "metadata": {},
     "output_type": "execute_result"
    },
    {
     "data": {
      "image/png": "[encoded data removed]",
      "text/plain": [
       "<Figure size 1728x1296 with 1 Axes>"
      ]
     },
     "metadata": {
      "needs_background": "light"
     },
     "output_type": "display_data"
    }
   ],
   "source": [
    "bp[['SYS','DIA', 'Target SYS', 'Target DIA', 'SYS Trend', 'DIA Trend']].plot(\n",
    "    style=['ro ','bo ','r-','b-','r--','b--'],\n",
    "    ylim=(0,180),\n",
    "    #xlim=(pd.Timestamp('2019-01-01'), pd.Timestamp('2019-03-15')),\n",
    "    title='Target: 130 / 85')"
   ]
  },
  {
   "cell_type": "code",
   "execution_count": 148,
   "metadata": {},
   "outputs": [
    {
     "data": {
      "text/html": [
       "<div>\n",
       "<style scoped>\n",
       "    .dataframe tbody tr th:only-of-type {\n",
       "        vertical-align: middle;\n",
       "    }\n",
       "\n",
       "    .dataframe tbody tr th {\n",
       "        vertical-align: top;\n",
       "    }\n",
       "\n",
       "    .dataframe thead th {\n",
       "        text-align: right;\n",
       "    }\n",
       "</style>\n",
       "<table border=\"1\" class=\"dataframe\">\n",
       "  <thead>\n",
       "    <tr style=\"text-align: right;\">\n",
       "      <th></th>\n",
       "      <th>Systolic</th>\n",
       "      <th>Diastolic</th>\n",
       "    </tr>\n",
       "    <tr>\n",
       "      <th>Date</th>\n",
       "      <th></th>\n",
       "      <th></th>\n",
       "    </tr>\n",
       "  </thead>\n",
       "  <tbody>\n",
       "    <tr>\n",
       "      <th>2019-03-16</th>\n",
       "      <td>138</td>\n",
       "      <td>99</td>\n",
       "    </tr>\n",
       "    <tr>\n",
       "      <th>2019-03-19</th>\n",
       "      <td>155</td>\n",
       "      <td>102</td>\n",
       "    </tr>\n",
       "    <tr>\n",
       "      <th>2019-03-20</th>\n",
       "      <td>150</td>\n",
       "      <td>96</td>\n",
       "    </tr>\n",
       "    <tr>\n",
       "      <th>2019-03-22</th>\n",
       "      <td>137</td>\n",
       "      <td>97</td>\n",
       "    </tr>\n",
       "    <tr>\n",
       "      <th>2019-03-23</th>\n",
       "      <td>141</td>\n",
       "      <td>98</td>\n",
       "    </tr>\n",
       "    <tr>\n",
       "      <th>2019-03-30</th>\n",
       "      <td>142</td>\n",
       "      <td>104</td>\n",
       "    </tr>\n",
       "    <tr>\n",
       "      <th>2019-03-31</th>\n",
       "      <td>128</td>\n",
       "      <td>84</td>\n",
       "    </tr>\n",
       "    <tr>\n",
       "      <th>2019-04-01</th>\n",
       "      <td>133</td>\n",
       "      <td>90</td>\n",
       "    </tr>\n",
       "    <tr>\n",
       "      <th>2019-04-02</th>\n",
       "      <td>131</td>\n",
       "      <td>92</td>\n",
       "    </tr>\n",
       "    <tr>\n",
       "      <th>2019-04-03</th>\n",
       "      <td>138</td>\n",
       "      <td>82</td>\n",
       "    </tr>\n",
       "  </tbody>\n",
       "</table>\n",
       "</div>"
      ],
      "text/plain": [
       "            Systolic  Diastolic\n",
       "Date                           \n",
       "2019-03-16       138         99\n",
       "2019-03-19       155        102\n",
       "2019-03-20       150         96\n",
       "2019-03-22       137         97\n",
       "2019-03-23       141         98\n",
       "2019-03-30       142        104\n",
       "2019-03-31       128         84\n",
       "2019-04-01       133         90\n",
       "2019-04-02       131         92\n",
       "2019-04-03       138         82"
      ]
     },
     "execution_count": 148,
     "metadata": {},
     "output_type": "execute_result"
    }
   ],
   "source": [
    "bp['Systolic'] = bp['SYS'].astype(int)\n",
    "bp['Diastolic'] = bp['DIA'].astype(int)\n",
    "bp[['Systolic','Diastolic']].tail(10)"
   ]
  },
  {
   "cell_type": "code",
   "execution_count": null,
   "metadata": {},
   "outputs": [],
   "source": []
  }
 ],
 "metadata": {
  "kernelspec": {
   "display_name": "Python 3",
   "language": "python",
   "name": "python3"
  },
  "language_info": {
   "codemirror_mode": {
    "name": "ipython",
    "version": 3
   },
   "file_extension": ".py",
   "mimetype": "text/x-python",
   "name": "python",
   "nbconvert_exporter": "python",
   "pygments_lexer": "ipython3",
   "version": "3.7.1"
  }
 },
 "nbformat": 4,
 "nbformat_minor": 2
}
